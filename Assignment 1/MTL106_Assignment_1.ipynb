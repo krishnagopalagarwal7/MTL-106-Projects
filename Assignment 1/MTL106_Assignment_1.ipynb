{
 "cells": [
  {
   "cell_type": "code",
   "execution_count": 1,
   "metadata": {},
   "outputs": [],
   "source": [
    "import random"
   ]
  },
  {
   "cell_type": "code",
   "execution_count": 2,
   "metadata": {},
   "outputs": [],
   "source": [
    "def monte_Carlo_simulation_1():\n",
    "    iterations=100000\n",
    "    me_cnt = 0\n",
    "    alice_cnt = 0\n",
    "    for i in range (iterations):\n",
    "        me_array = list([1,7,6,2])\n",
    "        alice_arr = list([3,7,6,4])\n",
    "        \n",
    "        while(len(me_array)>0 and len(alice_arr)>0):\n",
    "            alice = random.choice(alice_arr)\n",
    "            me = max(me_array)\n",
    "            p = me/(me+alice)\n",
    "            \n",
    "            r = random.random()\n",
    "            if(r<p):\n",
    "                i = me_array.index(me)\n",
    "                me = me+alice\n",
    "                me_array[i] = me\n",
    "                alice_arr.remove(alice)\n",
    "            else:\n",
    "                i = alice_arr.index(alice)\n",
    "                alice = me+alice\n",
    "                alice_arr[i] = alice\n",
    "                me_array.remove(me)\n",
    "            \n",
    "        if(len(me_array) > 0):\n",
    "            me_cnt = me_cnt + 1\n",
    "        else:\n",
    "            alice_cnt = alice_cnt + 1\n",
    "            \n",
    "            \n",
    "    probability_of_winning = me_cnt / iterations\n",
    "    return probability_of_winning"
   ]
  },
  {
   "cell_type": "markdown",
   "metadata": {},
   "source": [
    "1> Picking the best warrior for each fight."
   ]
  },
  {
   "cell_type": "code",
   "execution_count": 3,
   "metadata": {},
   "outputs": [
    {
     "data": {
      "text/plain": [
       "0.44246"
      ]
     },
     "execution_count": 3,
     "metadata": {},
     "output_type": "execute_result"
    }
   ],
   "source": [
    "monte_Carlo_simulation_1()"
   ]
  },
  {
   "cell_type": "code",
   "execution_count": 18,
   "metadata": {},
   "outputs": [],
   "source": [
    "def monte_Carlo_simulation_2():\n",
    "    iterations=100000\n",
    "    me_cnt = 0\n",
    "    alice_cnt = 0\n",
    "    for i in range (iterations):\n",
    "        me_array = list([1,7,6,2])\n",
    "        alice_arr = list([3,7,6,4])\n",
    "        \n",
    "        while(len(me_array) and len(alice_arr)):\n",
    "            alice = random.choice(alice_arr)\n",
    "            me = min(me_array)\n",
    "            p = me/(me+alice)\n",
    "            \n",
    "            r = random.random()\n",
    "            if(r<p):\n",
    "                i = me_array.index(me)\n",
    "                me = me+alice\n",
    "                me_array[i] = me\n",
    "                alice_arr.remove(alice)\n",
    "            else:\n",
    "                i = alice_arr.index(alice)\n",
    "                alice = me+alice\n",
    "                alice_arr[i] = alice\n",
    "                me_array.remove(me)\n",
    "            \n",
    "        if(len(me_array) > 0):\n",
    "            me_cnt = me_cnt + 1\n",
    "        else:\n",
    "            alice_cnt = alice_cnt + 1\n",
    "            \n",
    "            \n",
    "    probability_of_winning = me_cnt / iterations\n",
    "    print(probability_of_winning)"
   ]
  },
  {
   "cell_type": "markdown",
   "metadata": {},
   "source": [
    "2> Picking the worst warrior for each fight."
   ]
  },
  {
   "cell_type": "code",
   "execution_count": 19,
   "metadata": {},
   "outputs": [
    {
     "name": "stdout",
     "output_type": "stream",
     "text": [
      "0.44876\n"
     ]
    }
   ],
   "source": [
    "monte_Carlo_simulation_2()"
   ]
  },
  {
   "cell_type": "markdown",
   "metadata": {},
   "source": [
    "3> Expected gain of strength in my team will be zero, therefore every match is fair.\n",
    "When my warror of strength x fights with warrior of strength y\n",
    "Win probability = x/(x+y)\n",
    "Lose Probability = 1-x/(x+y) = y/(x+y)\n",
    "Expected Gain = y*(x/(x+y))(When x wins)-x*(y/(x+y))(When y wins) = zero"
   ]
  },
  {
   "cell_type": "markdown",
   "metadata": {},
   "source": [
    "4> There is no optimal strategy as such. Every strategy will give the same probability.\n",
    "\n",
    "\n",
    "Proof:\n",
    "My list of warriors = S = {s1, _ _ _ _ sn}\n",
    "Alice list of warriors = Q = {q1, _ _ _ _ qm}\n",
    "\n",
    "My claim is:\n",
    "P(My win)=(s1+s2+ _ _ _sn)/(s1+s2+ _ _ sn + a1+a2+ _ _ _ am)\n",
    "\n",
    "Proof by Induction:\n",
    "We define inductive variable Z = |S| + |Q|\n",
    "\n",
    "Base Cse:   \n",
    "Z = 1\n",
    "S={}, Q={q} or S={s}, Q={}\n",
    "Both are Satisfying our claim;\n",
    "\n",
    "Inductive Hypothesis:\n",
    "For all Z < k satisfying our claim\n",
    "\n",
    "Inductive step:\n",
    "For Z=k\n",
    "\n",
    "P(My win)=P(My win/Me Winning round 1)*P(Me winning round 1)+ \n",
    "               P(My win/Me losing round 1)*P(Me loosing round 1)\n",
    "         = ((s1+s2+ _ _ _ _sn+y)/(s1+ _ _ _ _ sn + q1+ _ _ _ qm))*(x/(x+y)) \n",
    "         +((s1+s2+ _ _ _ _sn-x)/(s1+ _ _ _ _ sn + q1+ _ _ _ qm))*(y/(x+y))\n",
    "         (I am sending warrior of strength x in 1st fight and alice is sending warrior of strength y)\n",
    "         =(s1+ _ _ _ _ sn)/(s1+ _ _ _ _ sn + a1+ _ _ _ _ am)\n",
    "Hence Proved.\n"
   ]
  }
 ],
 "metadata": {
  "kernelspec": {
   "display_name": "Python 3",
   "language": "python",
   "name": "python3"
  },
  "language_info": {
   "codemirror_mode": {
    "name": "ipython",
    "version": 3
   },
   "file_extension": ".py",
   "mimetype": "text/x-python",
   "name": "python",
   "nbconvert_exporter": "python",
   "pygments_lexer": "ipython3",
   "version": "3.12.2"
  }
 },
 "nbformat": 4,
 "nbformat_minor": 2
}
